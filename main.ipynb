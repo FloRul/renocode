{
 "cells": [
  {
   "cell_type": "code",
   "execution_count": 8,
   "metadata": {},
   "outputs": [
    {
     "name": "stdout",
     "output_type": "stream",
     "text": [
      "Loaded detection model vikp/surya_det3 on device cuda with dtype torch.float16\n",
      "Loaded detection model vikp/surya_layout3 on device cuda with dtype torch.float16\n",
      "Loaded reading order model vikp/surya_order on device cuda with dtype torch.float16\n",
      "Loaded recognition model vikp/surya_rec2 on device cuda with dtype torch.float16\n",
      "Loaded texify model to cuda with torch.float16 dtype\n",
      "Loaded recognition model vikp/surya_tablerec on device cuda with dtype torch.float16\n"
     ]
    },
    {
     "name": "stderr",
     "output_type": "stream",
     "text": [
      "Detecting bboxes: 100%|██████████| 1/1 [00:00<00:00,  3.52it/s]\n",
      "Recognizing Text: 100%|██████████| 3/3 [00:03<00:00,  1.12s/it]\n",
      "Detecting bboxes: 100%|██████████| 1/1 [00:00<00:00,  3.13it/s]\n",
      "Finding reading order: 100%|██████████| 1/1 [00:00<00:00,  2.35it/s]\n",
      "Detecting bboxes: 100%|██████████| 1/1 [00:00<00:00,  6.30it/s]\n",
      "Recognizing Text: 100%|██████████| 1/1 [00:00<00:00,  1.56it/s]\n",
      "Recognizing tables: 100%|██████████| 1/1 [00:00<00:00, 14.02it/s]\n"
     ]
    }
   ],
   "source": [
    "from marker.convert import convert_single_pdf\n",
    "from marker.models import load_all_models\n",
    "\n",
    "fpath = \"code_batiment_2022.pdf\"\n",
    "model_lst = load_all_models()\n",
    "full_text, images, out_meta = convert_single_pdf(fpath, model_lst, max_pages=3, ocr_all_pages=True)"
   ]
  },
  {
   "cell_type": "code",
   "execution_count": 10,
   "metadata": {},
   "outputs": [],
   "source": [
    "import json\n",
    "\n",
    "\n",
    "with open(\"code_batiment_2022_meta.json\", \"w\") as f:\n",
    "  f.write(json.dumps(out_meta, indent=4, ensure_ascii=False))"
   ]
  }
 ],
 "metadata": {
  "kernelspec": {
   "display_name": "venv",
   "language": "python",
   "name": "python3"
  },
  "language_info": {
   "codemirror_mode": {
    "name": "ipython",
    "version": 3
   },
   "file_extension": ".py",
   "mimetype": "text/x-python",
   "name": "python",
   "nbconvert_exporter": "python",
   "pygments_lexer": "ipython3",
   "version": "3.12.5"
  }
 },
 "nbformat": 4,
 "nbformat_minor": 2
}
